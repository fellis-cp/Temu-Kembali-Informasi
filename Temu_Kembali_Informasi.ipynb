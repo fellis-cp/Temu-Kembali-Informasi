{
  "nbformat": 4,
  "nbformat_minor": 0,
  "metadata": {
    "colab": {
      "provenance": []
    },
    "kernelspec": {
      "name": "python3",
      "display_name": "Python 3"
    },
    "language_info": {
      "name": "python"
    }
  },
  "cells": [
    {
      "cell_type": "code",
      "execution_count": 2,
      "metadata": {
        "colab": {
          "base_uri": "https://localhost:8080/"
        },
        "id": "bKC6oTDBd1xr",
        "outputId": "3b299ea2-2656-4092-b7b5-f7cf592b1dd3"
      },
      "outputs": [
        {
          "output_type": "stream",
          "name": "stdout",
          "text": [
            "Python 3.10.12\n",
            "total 16\n",
            "drwxr-xr-x 1 root root 4096 Mar  5 14:31 .\n",
            "drwxr-xr-x 1 root root 4096 Mar  7 10:24 ..\n",
            "drwxr-xr-x 4 root root 4096 Mar  5 14:31 .config\n",
            "drwxr-xr-x 1 root root 4096 Mar  5 14:31 sample_data\n"
          ]
        }
      ],
      "source": [
        "#M.Hanif Fajar Anggara\n",
        "#21106050083\n",
        "#check python version\n",
        "!python --version\n",
        "!ls -al"
      ]
    },
    {
      "cell_type": "code",
      "source": [
        "#semua dependencies\n",
        "import re as re\n",
        "import numpy as np\n",
        "from nltk.stem import PorterStemmer\n",
        "from nltk.tokenize import sent_tokenize , word_tokenize\n",
        "!pip install Sastrawi\n",
        "from Sastrawi.Stemmer.StemmerFactory import StemmerFactory\n",
        "\n",
        "\n",
        "\n"
      ],
      "metadata": {
        "colab": {
          "base_uri": "https://localhost:8080/"
        },
        "id": "EkiT1O78fC8n",
        "outputId": "21f158cd-a38d-44ce-858f-5e38fc6020c3"
      },
      "execution_count": 3,
      "outputs": [
        {
          "output_type": "stream",
          "name": "stdout",
          "text": [
            "Collecting Sastrawi\n",
            "  Downloading Sastrawi-1.0.1-py2.py3-none-any.whl (209 kB)\n",
            "\u001b[?25l     \u001b[90m━━━━━━━━━━━━━━━━━━━━━━━━━━━━━━━━━━━━━━━━\u001b[0m \u001b[32m0.0/209.7 kB\u001b[0m \u001b[31m?\u001b[0m eta \u001b[36m-:--:--\u001b[0m\r\u001b[2K     \u001b[91m━━━━━━━━━━━━━━━━━━━━━━━━━━━━━━━━━━━━━━━\u001b[0m\u001b[90m╺\u001b[0m \u001b[32m204.8/209.7 kB\u001b[0m \u001b[31m6.2 MB/s\u001b[0m eta \u001b[36m0:00:01\u001b[0m\r\u001b[2K     \u001b[90m━━━━━━━━━━━━━━━━━━━━━━━━━━━━━━━━━━━━━━━━\u001b[0m \u001b[32m209.7/209.7 kB\u001b[0m \u001b[31m4.8 MB/s\u001b[0m eta \u001b[36m0:00:00\u001b[0m\n",
            "\u001b[?25hInstalling collected packages: Sastrawi\n",
            "Successfully installed Sastrawi-1.0.1\n"
          ]
        }
      ]
    },
    {
      "cell_type": "code",
      "source": [
        "#cleaning\n",
        "doc = \"Tentunya dari letak geografis ini memberikan pengaruh kepada Indonesia. Berikut adalah pengaruh letak geografis : Keragaman budaya dalam bidang, seni, bahasa, peradaban dan agama. Memiliki wilayah strategis dalam bidang perdagangan dan transportasi.\"\n",
        "txt = '<s>' + doc\n",
        "txt = re.sub('\\.', '<s>', txt)  #ganti titik dengan s\n",
        "txt = re.sub('[!@#$%^&*()_+<>?/:;\"{}\\[\\]|]', '', txt) #hapus char agar menjadi alfa numerik saja\n",
        "gram = txt.split(' ')\n",
        "print(np.array(gram))\n",
        "\n"
      ],
      "metadata": {
        "colab": {
          "base_uri": "https://localhost:8080/"
        },
        "id": "4UbtePY_i_-h",
        "outputId": "5eb898ca-fce1-426b-c6f2-e9d134615662"
      },
      "execution_count": 11,
      "outputs": [
        {
          "output_type": "stream",
          "name": "stdout",
          "text": [
            "['sTentunya' 'dari' 'letak' 'geografis' 'ini' 'memberikan' 'pengaruh'\n",
            " 'kepada' 'Indonesias' 'Berikut' 'adalah' 'pengaruh' 'letak' 'geografis'\n",
            " '' 'Keragaman' 'budaya' 'dalam' 'bidang,' 'seni,' 'bahasa,' 'peradaban'\n",
            " 'dan' 'agamas' 'Memiliki' 'wilayah' 'strategis' 'dalam' 'bidang'\n",
            " 'perdagangan' 'dan' 'transportasis']\n"
          ]
        }
      ]
    },
    {
      "cell_type": "code",
      "source": [
        "#bigram\n",
        "word2gram = []\n",
        "x = 0\n",
        "while x < len(gram) - 1:\n",
        "    word2gram.append(gram[x] + ' ' + gram[x + 1])\n",
        "    x += 1\n",
        "print(np.array(word2gram))\n"
      ],
      "metadata": {
        "colab": {
          "base_uri": "https://localhost:8080/"
        },
        "id": "Oxd0APa2fyY_",
        "outputId": "56550f9d-a917-45bb-df6b-7c086991dfc6"
      },
      "execution_count": 12,
      "outputs": [
        {
          "output_type": "stream",
          "name": "stdout",
          "text": [
            "['sTentunya dari' 'dari letak' 'letak geografis' 'geografis ini'\n",
            " 'ini memberikan' 'memberikan pengaruh' 'pengaruh kepada'\n",
            " 'kepada Indonesias' 'Indonesias Berikut' 'Berikut adalah'\n",
            " 'adalah pengaruh' 'pengaruh letak' 'letak geografis' 'geografis '\n",
            " ' Keragaman' 'Keragaman budaya' 'budaya dalam' 'dalam bidang,'\n",
            " 'bidang, seni,' 'seni, bahasa,' 'bahasa, peradaban' 'peradaban dan'\n",
            " 'dan agamas' 'agamas Memiliki' 'Memiliki wilayah' 'wilayah strategis'\n",
            " 'strategis dalam' 'dalam bidang' 'bidang perdagangan' 'perdagangan dan'\n",
            " 'dan transportasis']\n"
          ]
        }
      ]
    },
    {
      "cell_type": "code",
      "source": [
        "#Porter\n",
        "sentence = gram #init var dari  var cleaning\n",
        "\n",
        "words = sentence\n",
        "ps = PorterStemmer ()\n",
        "\n",
        "#stem kata\n",
        "for w in words :\n",
        "  rootWord = ps.stem(w)\n",
        "  Stemword = rootWord\n",
        "  print(Stemword)"
      ],
      "metadata": {
        "colab": {
          "base_uri": "https://localhost:8080/"
        },
        "id": "j5Q48dVvqC1g",
        "outputId": "9fed9135-93c6-4719-92d2-1080869ef011"
      },
      "execution_count": 13,
      "outputs": [
        {
          "output_type": "stream",
          "name": "stdout",
          "text": [
            "stentunya\n",
            "dari\n",
            "letak\n",
            "geografi\n",
            "ini\n",
            "memberikan\n",
            "pengaruh\n",
            "kepada\n",
            "indonesia\n",
            "berikut\n",
            "adalah\n",
            "pengaruh\n",
            "letak\n",
            "geografi\n",
            "\n",
            "keragaman\n",
            "budaya\n",
            "dalam\n",
            "bidang,\n",
            "seni,\n",
            "bahasa,\n",
            "peradaban\n",
            "dan\n",
            "agama\n",
            "memiliki\n",
            "wilayah\n",
            "strategi\n",
            "dalam\n",
            "bidang\n",
            "perdagangan\n",
            "dan\n",
            "transportasi\n"
          ]
        }
      ]
    },
    {
      "cell_type": "code",
      "source": [
        "#Sastrawi\n",
        "sentence = gram\n",
        "factory = StemmerFactory()\n",
        "stemmer = factory.create_stemmer()\n",
        "\n",
        "# Stem kata\n",
        "for word in sentence:\n",
        "    stemmed_word = stemmer.stem(word)\n",
        "    print(stemmed_word)\n"
      ],
      "metadata": {
        "colab": {
          "base_uri": "https://localhost:8080/"
        },
        "id": "Cnu_Hb_FtB-w",
        "outputId": "02615909-4fa4-4c06-97a8-269925e5c361"
      },
      "execution_count": 14,
      "outputs": [
        {
          "output_type": "stream",
          "name": "stdout",
          "text": [
            "stentunya\n",
            "dari\n",
            "letak\n",
            "geografis\n",
            "ini\n",
            "beri\n",
            "pengaruh\n",
            "kepada\n",
            "indonesias\n",
            "ikut\n",
            "adalah\n",
            "pengaruh\n",
            "letak\n",
            "geografis\n",
            "\n",
            "ragam\n",
            "budaya\n",
            "dalam\n",
            "bidang\n",
            "seni\n",
            "bahasa\n",
            "adab\n",
            "dan\n",
            "agamas\n",
            "milik\n",
            "wilayah\n",
            "strategis\n",
            "dalam\n",
            "bidang\n",
            "dagang\n",
            "dan\n",
            "transportasis\n"
          ]
        }
      ]
    },
    {
      "cell_type": "markdown",
      "source": [],
      "metadata": {
        "id": "BhktB2Bkd65K"
      }
    }
  ]
}