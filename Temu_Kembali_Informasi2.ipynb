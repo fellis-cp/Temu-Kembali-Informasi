{
  "nbformat": 4,
  "nbformat_minor": 0,
  "metadata": {
    "colab": {
      "provenance": [],
      "authorship_tag": "ABX9TyOQaphQWIzVZP+dA8T/Q5b2",
      "include_colab_link": true
    },
    "kernelspec": {
      "name": "python3",
      "display_name": "Python 3"
    },
    "language_info": {
      "name": "python"
    }
  },
  "cells": [
    {
      "cell_type": "markdown",
      "metadata": {
        "id": "view-in-github",
        "colab_type": "text"
      },
      "source": [
        "<a href=\"https://colab.research.google.com/github/fellis-cp/Temu-Kembali-Informasi/blob/main/Temu_Kembali_Informasi2.ipynb\" target=\"_parent\"><img src=\"https://colab.research.google.com/assets/colab-badge.svg\" alt=\"Open In Colab\"/></a>"
      ]
    },
    {
      "cell_type": "code",
      "execution_count": 77,
      "metadata": {
        "colab": {
          "base_uri": "https://localhost:8080/"
        },
        "id": "bKC6oTDBd1xr",
        "outputId": "df726da8-c92a-46cd-df1e-cb92b5b56030"
      },
      "outputs": [
        {
          "output_type": "stream",
          "name": "stdout",
          "text": [
            "Python 3.10.12\n",
            "total 16\n",
            "drwxr-xr-x 1 root root 4096 Mar  6 14:21 .\n",
            "drwxr-xr-x 1 root root 4096 Mar  8 02:28 ..\n",
            "drwxr-xr-x 4 root root 4096 Mar  6 14:21 .config\n",
            "drwxr-xr-x 1 root root 4096 Mar  6 14:21 sample_data\n"
          ]
        }
      ],
      "source": [
        "#M.Hanif Fajar Anggara\n",
        "#21106050083\n",
        "#check python version\n",
        "!python --version\n",
        "!ls -al"
      ]
    },
    {
      "cell_type": "code",
      "source": [
        "#semua dependencies\n",
        "import re as re\n",
        "import numpy as np\n",
        "from nltk.stem import PorterStemmer\n",
        "from nltk.tokenize import sent_tokenize , word_tokenize\n",
        "!pip install Sastrawi\n",
        "from Sastrawi.Stemmer.StemmerFactory import StemmerFactory\n",
        "from nltk.stem import PorterStemmer\n",
        "from nltk.tokenize import word_tokenize\n",
        "from nltk.stem import WordNetLemmatizer\n",
        "import nltk\n",
        "nltk.download(\"wordnet\")\n",
        "nltk.download('punkt')\n",
        "nltk.download('stopwords')"
      ],
      "metadata": {
        "colab": {
          "base_uri": "https://localhost:8080/"
        },
        "id": "EkiT1O78fC8n",
        "outputId": "cab10242-2258-439e-de2b-1b30979abbf0"
      },
      "execution_count": 78,
      "outputs": [
        {
          "output_type": "stream",
          "name": "stdout",
          "text": [
            "Requirement already satisfied: Sastrawi in /usr/local/lib/python3.10/dist-packages (1.0.1)\n"
          ]
        },
        {
          "output_type": "stream",
          "name": "stderr",
          "text": [
            "[nltk_data] Downloading package wordnet to /root/nltk_data...\n",
            "[nltk_data]   Package wordnet is already up-to-date!\n",
            "[nltk_data] Downloading package punkt to /root/nltk_data...\n",
            "[nltk_data]   Package punkt is already up-to-date!\n",
            "[nltk_data] Downloading package stopwords to /root/nltk_data...\n",
            "[nltk_data]   Package stopwords is already up-to-date!\n"
          ]
        },
        {
          "output_type": "execute_result",
          "data": {
            "text/plain": [
              "True"
            ]
          },
          "metadata": {},
          "execution_count": 78
        }
      ]
    },
    {
      "cell_type": "code",
      "source": [
        "#cleaning\n",
        "doc = \"Medium is a social publishing platform that is open to all and home to a diverse array of stories, ideas, and perspectives. Anyone can write for the platform, so it's great for beginners.\"\n",
        "txt = re.sub('[.,\\'!@#$%^&*()_+<>?/:;\"{}\\[\\]|]', '', doc) #hapus char agar menjadi alfa numerik saja\n",
        "gram = txt.split(' ')\n",
        "print(np.array(gram))"
      ],
      "metadata": {
        "colab": {
          "base_uri": "https://localhost:8080/"
        },
        "id": "4UbtePY_i_-h",
        "outputId": "8d1d6785-dc2b-4d69-a33a-5f7a55a2ae7b"
      },
      "execution_count": 79,
      "outputs": [
        {
          "output_type": "stream",
          "name": "stdout",
          "text": [
            "['Medium' 'is' 'a' 'social' 'publishing' 'platform' 'that' 'is' 'open'\n",
            " 'to' 'all' 'and' 'home' 'to' 'a' 'diverse' 'array' 'of' 'stories' 'ideas'\n",
            " 'and' 'perspectives' 'Anyone' 'can' 'write' 'for' 'the' 'platform' 'so'\n",
            " 'its' 'great' 'for' 'beginners']\n"
          ]
        }
      ]
    },
    {
      "cell_type": "code",
      "source": [
        "#bigram\n",
        "word2gram = []\n",
        "x = 0\n",
        "while x < len(gram) - 1:\n",
        "    word2gram.append(gram[x] + ' ' + gram[x + 1])\n",
        "    x += 1\n",
        "print(np.array(word2gram))"
      ],
      "metadata": {
        "colab": {
          "base_uri": "https://localhost:8080/"
        },
        "id": "Oxd0APa2fyY_",
        "outputId": "0af947b5-05cb-4d99-bb14-ab02b90e3e83"
      },
      "execution_count": 80,
      "outputs": [
        {
          "output_type": "stream",
          "name": "stdout",
          "text": [
            "['Medium is' 'is a' 'a social' 'social publishing' 'publishing platform'\n",
            " 'platform that' 'that is' 'is open' 'open to' 'to all' 'all and'\n",
            " 'and home' 'home to' 'to a' 'a diverse' 'diverse array' 'array of'\n",
            " 'of stories' 'stories ideas' 'ideas and' 'and perspectives'\n",
            " 'perspectives Anyone' 'Anyone can' 'can write' 'write for' 'for the'\n",
            " 'the platform' 'platform so' 'so its' 'its great' 'great for'\n",
            " 'for beginners']\n"
          ]
        }
      ]
    },
    {
      "cell_type": "code",
      "source": [
        "stemm_input = gram\n",
        "ps = PorterStemmer()\n",
        "\n",
        "print(\"{0:20}{1:20}\".format(\"--StemWord--\", \"--LemmaWord--\"))\n",
        "\n",
        "for w in stemm_input:\n",
        "    rootWord = ps.stem(w)\n",
        "    Stem_output = rootWord\n",
        "    lemmatizer_input = WordNetLemmatizer()\n",
        "    nltk_tokens = nltk.word_tokenize(Stem_output)\n",
        "\n",
        "    for w in nltk_tokens:\n",
        "        print(\"{0:20}{1:20}\".format(w, lemmatizer_input.lemmatize(w)))"
      ],
      "metadata": {
        "colab": {
          "base_uri": "https://localhost:8080/"
        },
        "id": "j5Q48dVvqC1g",
        "outputId": "4bf4cc78-ac5a-479e-c8a2-9f3c6d97faf8"
      },
      "execution_count": 81,
      "outputs": [
        {
          "output_type": "stream",
          "name": "stdout",
          "text": [
            "--StemWord--        --LemmaWord--       \n",
            "medium              medium              \n",
            "is                  is                  \n",
            "a                   a                   \n",
            "social              social              \n",
            "publish             publish             \n",
            "platform            platform            \n",
            "that                that                \n",
            "is                  is                  \n",
            "open                open                \n",
            "to                  to                  \n",
            "all                 all                 \n",
            "and                 and                 \n",
            "home                home                \n",
            "to                  to                  \n",
            "a                   a                   \n",
            "divers              diver               \n",
            "array               array               \n",
            "of                  of                  \n",
            "stori               stori               \n",
            "idea                idea                \n",
            "and                 and                 \n",
            "perspect            perspect            \n",
            "anyon               anyon               \n",
            "can                 can                 \n",
            "write               write               \n",
            "for                 for                 \n",
            "the                 the                 \n",
            "platform            platform            \n",
            "so                  so                  \n",
            "it                  it                  \n",
            "great               great               \n",
            "for                 for                 \n",
            "beginn              beginn              \n"
          ]
        }
      ]
    },
    {
      "cell_type": "markdown",
      "source": [
        "PORTER DENGAN STOPWORD\n"
      ],
      "metadata": {
        "id": "ahD8jr_bF9Ue"
      }
    },
    {
      "cell_type": "code",
      "source": [
        "\n",
        "# input data\n",
        "\n",
        "stemm_input = gram\n",
        "# Init portter sama lematizer\n",
        "ps = PorterStemmer()\n",
        "lemmatizer = WordNetLemmatizer()\n",
        "\n",
        "# isi kata english ke stop word\n",
        "stop_words = set(stopwords.words('english'))\n",
        "\n",
        "print(\"{0:20}{1:20}\".format(\"--Word--\", \"--StopWordStemmed Word--\"))\n",
        "\n",
        "for word in stemm_input:\n",
        "    # check apakah kata termasuk di stop word\n",
        "    if word.lower() not in stop_words:\n",
        "        # stem kata\n",
        "        stemmed_word = ps.stem(word)\n",
        "        # print\n",
        "        print(\"{0:20}{1:20}\".format(word, stemmed_word))"
      ],
      "metadata": {
        "colab": {
          "base_uri": "https://localhost:8080/"
        },
        "id": "43ozrCReFIm_",
        "outputId": "1c911aeb-6677-40f8-81b6-b75ae15748e9"
      },
      "execution_count": 83,
      "outputs": [
        {
          "output_type": "stream",
          "name": "stdout",
          "text": [
            "--Word--            --StopWordStemmed Word--\n",
            "Medium              medium              \n",
            "social              social              \n",
            "publishing          publish             \n",
            "platform            platform            \n",
            "open                open                \n",
            "home                home                \n",
            "diverse             divers              \n",
            "array               array               \n",
            "stories             stori               \n",
            "ideas               idea                \n",
            "perspectives        perspect            \n",
            "Anyone              anyon               \n",
            "write               write               \n",
            "platform            platform            \n",
            "great               great               \n",
            "beginners           beginn              \n"
          ]
        }
      ]
    },
    {
      "cell_type": "code",
      "source": [
        "#Sastrawi\n",
        "sentence = gram\n",
        "factory = StemmerFactory()\n",
        "stemmer = factory.create_stemmer()\n",
        "\n",
        "\n",
        "for word in sentence:\n",
        "    stemmed_word = stemmer.stem(word)\n",
        "    print(stemmed_word)\n"
      ],
      "metadata": {
        "colab": {
          "base_uri": "https://localhost:8080/"
        },
        "id": "Cnu_Hb_FtB-w",
        "outputId": "39212c24-e335-49eb-a8e6-6c0a0756f7f6"
      },
      "execution_count": null,
      "outputs": [
        {
          "output_type": "stream",
          "name": "stdout",
          "text": [
            "stentunya\n",
            "dari\n",
            "letak\n",
            "geografis\n",
            "ini\n",
            "beri\n",
            "pengaruh\n",
            "kepada\n",
            "indonesia\n",
            "ikut\n",
            "adalah\n",
            "pengaruh\n",
            "letak\n",
            "geografis\n",
            "\n",
            "ragam\n",
            "budaya\n",
            "dalam\n",
            "bidang\n",
            "seni\n",
            "bahasa\n",
            "adab\n",
            "dan\n",
            "agama\n",
            "milik\n",
            "wilayah\n",
            "strategis\n",
            "dalam\n",
            "bidang\n",
            "dagang\n",
            "dan\n",
            "transportasi\n"
          ]
        }
      ]
    },
    {
      "cell_type": "code",
      "source": [],
      "metadata": {
        "id": "sKEaFCJk5o5a"
      },
      "execution_count": null,
      "outputs": []
    },
    {
      "cell_type": "markdown",
      "source": [],
      "metadata": {
        "id": "BhktB2Bkd65K"
      }
    }
  ]
}